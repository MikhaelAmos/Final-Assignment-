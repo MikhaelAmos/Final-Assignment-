{
 "cells": [
  {
   "cell_type": "code",
   "execution_count": 1,
   "id": "c616185e-5736-4c91-a2d2-c4d31f2ad6e7",
   "metadata": {},
   "outputs": [],
   "source": [
    "%config Completer.use_jedi = False\n",
    "import numpy as np\n",
    "import pandas as pd\n",
    "import matplotlib.pyplot as plt\n",
    "import glob\n",
    "import seaborn as sns\n",
    "from sklearn.model_selection import train_test_split, cross_val_score, RandomizedSearchCV\n",
    "from sklearn.preprocessing import StandardScaler, MinMaxScaler\n",
    "from sklearn.ensemble import RandomForestRegressor\n",
    "from xgboost import XGBRegressor\n",
    "import warnings\n",
    "warnings.filterwarnings('ignore')\n",
    "from sklearn.metrics import mean_squared_error, mean_absolute_error, r2_score\n",
    "def eval_regression(model, pred, xtrain, ytrain, xtest, ytest):\n",
    "    print(\"MAE: %.2f\" % mean_absolute_error(ytest, pred)) # The MAE\n",
    "    print(\"RMSE: %.2f\" % mean_squared_error(ytest, pred, squared=False)) \n",
    "    print('R2 score: %.2f' % r2_score(ytest, pred))\n",
    "from scipy.stats import uniform\n",
    "from sklearn.linear_model import Lasso, ElasticNet, Ridge, LinearRegression, LogisticRegression\n",
    "from sklearn.tree import DecisionTreeRegressor\n",
    "from sklearn.svm import SVR"
   ]
  },
  {
   "cell_type": "code",
   "execution_count": 2,
   "id": "67e6666a-4300-4217-beb8-647d2ee7ce72",
   "metadata": {},
   "outputs": [],
   "source": [
    "wells = glob.glob('kalkulaksi/*')"
   ]
  },
  {
   "cell_type": "code",
   "execution_count": 3,
   "id": "8cbd9786-78f9-4d22-99f4-202c7ac7d770",
   "metadata": {},
   "outputs": [],
   "source": [
    "np.random.seed(8812)\n",
    "blind_test = []\n",
    "for i in range(74):\n",
    "    n = np.random.randint(0, len(wells))\n",
    "    blind_test.append(wells[n])\n",
    "    wells.pop(n)\n",
    "model_dataset=wells"
   ]
  },
  {
   "cell_type": "code",
   "execution_count": 5,
   "id": "fefb97e8-45d5-44b0-b346-ad63e06c4f7b",
   "metadata": {},
   "outputs": [
    {
     "data": {
      "text/plain": [
       "(200, 74)"
      ]
     },
     "execution_count": 5,
     "metadata": {},
     "output_type": "execute_result"
    }
   ],
   "source": [
    "len(model_dataset),len(blind_test)"
   ]
  },
  {
   "cell_type": "code",
   "execution_count": 7,
   "id": "746e1c48-06d3-4139-9478-1d6260e2d40e",
   "metadata": {},
   "outputs": [],
   "source": [
    "dataset=pd.DataFrame([])\n",
    "\n",
    "for well in model_dataset:\n",
    "    asd=pd.read_csv(well).dropna(subset=[\"GR\", \"NPHI\", \"RHOB\", \"RT\",\"Vshale\",\"PHID\",\"PHIT\",\"PHIE\",\"Sw\"])\n",
    "    dataset=pd.concat([dataset,asd])\n",
    "    "
   ]
  },
  {
   "cell_type": "code",
   "execution_count": 8,
   "id": "6f3903b2-b9b8-4b9e-86bf-29110f4a04bd",
   "metadata": {},
   "outputs": [
    {
     "data": {
      "text/html": [
       "<div>\n",
       "<style scoped>\n",
       "    .dataframe tbody tr th:only-of-type {\n",
       "        vertical-align: middle;\n",
       "    }\n",
       "\n",
       "    .dataframe tbody tr th {\n",
       "        vertical-align: top;\n",
       "    }\n",
       "\n",
       "    .dataframe thead th {\n",
       "        text-align: right;\n",
       "    }\n",
       "</style>\n",
       "<table border=\"1\" class=\"dataframe\">\n",
       "  <thead>\n",
       "    <tr style=\"text-align: right;\">\n",
       "      <th></th>\n",
       "      <th>DEPT</th>\n",
       "      <th>DT</th>\n",
       "      <th>GR</th>\n",
       "      <th>NPHI</th>\n",
       "      <th>RHOB</th>\n",
       "      <th>RT</th>\n",
       "      <th>SP</th>\n",
       "      <th>GRMin</th>\n",
       "      <th>GRMax</th>\n",
       "      <th>PHISH</th>\n",
       "      <th>Rw</th>\n",
       "      <th>Vshale</th>\n",
       "      <th>PHID</th>\n",
       "      <th>PHIN</th>\n",
       "      <th>PHIT</th>\n",
       "      <th>PHIE</th>\n",
       "      <th>Sw</th>\n",
       "    </tr>\n",
       "  </thead>\n",
       "  <tbody>\n",
       "    <tr>\n",
       "      <th>1706</th>\n",
       "      <td>853.0</td>\n",
       "      <td>80.9297</td>\n",
       "      <td>26.5268</td>\n",
       "      <td>0.272060</td>\n",
       "      <td>1.7312</td>\n",
       "      <td>100000.0000</td>\n",
       "      <td>4.3388</td>\n",
       "      <td>33997.000</td>\n",
       "      <td>53048.000</td>\n",
       "      <td>0.029</td>\n",
       "      <td>0.029</td>\n",
       "      <td>0.000000</td>\n",
       "      <td>0.592774</td>\n",
       "      <td>0.272060</td>\n",
       "      <td>0.461193</td>\n",
       "      <td>0.461193</td>\n",
       "      <td>0.001168</td>\n",
       "    </tr>\n",
       "    <tr>\n",
       "      <th>1707</th>\n",
       "      <td>853.5</td>\n",
       "      <td>78.5779</td>\n",
       "      <td>35.2117</td>\n",
       "      <td>0.278102</td>\n",
       "      <td>1.9110</td>\n",
       "      <td>100000.0000</td>\n",
       "      <td>7.5256</td>\n",
       "      <td>33997.000</td>\n",
       "      <td>53048.000</td>\n",
       "      <td>0.029</td>\n",
       "      <td>0.029</td>\n",
       "      <td>0.000000</td>\n",
       "      <td>0.476774</td>\n",
       "      <td>0.278102</td>\n",
       "      <td>0.390291</td>\n",
       "      <td>0.390291</td>\n",
       "      <td>0.001380</td>\n",
       "    </tr>\n",
       "    <tr>\n",
       "      <th>1708</th>\n",
       "      <td>854.0</td>\n",
       "      <td>78.1491</td>\n",
       "      <td>44.4713</td>\n",
       "      <td>0.330340</td>\n",
       "      <td>2.0323</td>\n",
       "      <td>100000.0000</td>\n",
       "      <td>11.2575</td>\n",
       "      <td>33997.000</td>\n",
       "      <td>53048.000</td>\n",
       "      <td>0.029</td>\n",
       "      <td>0.029</td>\n",
       "      <td>0.000000</td>\n",
       "      <td>0.398516</td>\n",
       "      <td>0.330340</td>\n",
       "      <td>0.366019</td>\n",
       "      <td>0.366019</td>\n",
       "      <td>0.001471</td>\n",
       "    </tr>\n",
       "    <tr>\n",
       "      <th>1709</th>\n",
       "      <td>854.5</td>\n",
       "      <td>80.3657</td>\n",
       "      <td>51.4354</td>\n",
       "      <td>0.358503</td>\n",
       "      <td>2.0497</td>\n",
       "      <td>100000.0000</td>\n",
       "      <td>15.2224</td>\n",
       "      <td>33997.000</td>\n",
       "      <td>53048.000</td>\n",
       "      <td>0.029</td>\n",
       "      <td>0.029</td>\n",
       "      <td>0.000000</td>\n",
       "      <td>0.387290</td>\n",
       "      <td>0.358503</td>\n",
       "      <td>0.373174</td>\n",
       "      <td>0.373174</td>\n",
       "      <td>0.001443</td>\n",
       "    </tr>\n",
       "    <tr>\n",
       "      <th>1710</th>\n",
       "      <td>855.0</td>\n",
       "      <td>84.5206</td>\n",
       "      <td>52.9506</td>\n",
       "      <td>0.376337</td>\n",
       "      <td>1.9479</td>\n",
       "      <td>100000.0000</td>\n",
       "      <td>19.1622</td>\n",
       "      <td>33997.000</td>\n",
       "      <td>53048.000</td>\n",
       "      <td>0.029</td>\n",
       "      <td>0.029</td>\n",
       "      <td>0.000000</td>\n",
       "      <td>0.452968</td>\n",
       "      <td>0.376337</td>\n",
       "      <td>0.416419</td>\n",
       "      <td>0.416419</td>\n",
       "      <td>0.001293</td>\n",
       "    </tr>\n",
       "    <tr>\n",
       "      <th>...</th>\n",
       "      <td>...</td>\n",
       "      <td>...</td>\n",
       "      <td>...</td>\n",
       "      <td>...</td>\n",
       "      <td>...</td>\n",
       "      <td>...</td>\n",
       "      <td>...</td>\n",
       "      <td>...</td>\n",
       "      <td>...</td>\n",
       "      <td>...</td>\n",
       "      <td>...</td>\n",
       "      <td>...</td>\n",
       "      <td>...</td>\n",
       "      <td>...</td>\n",
       "      <td>...</td>\n",
       "      <td>...</td>\n",
       "      <td>...</td>\n",
       "    </tr>\n",
       "    <tr>\n",
       "      <th>5755</th>\n",
       "      <td>3122.5</td>\n",
       "      <td>NaN</td>\n",
       "      <td>61.0962</td>\n",
       "      <td>9.413100</td>\n",
       "      <td>2.5257</td>\n",
       "      <td>172.0726</td>\n",
       "      <td>-44.5557</td>\n",
       "      <td>20.003</td>\n",
       "      <td>106.982</td>\n",
       "      <td>0.328</td>\n",
       "      <td>0.182</td>\n",
       "      <td>0.472450</td>\n",
       "      <td>0.080194</td>\n",
       "      <td>9.413100</td>\n",
       "      <td>1.000000</td>\n",
       "      <td>0.845037</td>\n",
       "      <td>0.038486</td>\n",
       "    </tr>\n",
       "    <tr>\n",
       "      <th>5756</th>\n",
       "      <td>3123.0</td>\n",
       "      <td>NaN</td>\n",
       "      <td>46.1199</td>\n",
       "      <td>7.859600</td>\n",
       "      <td>2.5690</td>\n",
       "      <td>157.2318</td>\n",
       "      <td>-47.7197</td>\n",
       "      <td>20.003</td>\n",
       "      <td>106.982</td>\n",
       "      <td>0.328</td>\n",
       "      <td>0.182</td>\n",
       "      <td>0.300267</td>\n",
       "      <td>0.052258</td>\n",
       "      <td>7.859600</td>\n",
       "      <td>1.000000</td>\n",
       "      <td>0.901513</td>\n",
       "      <td>0.037739</td>\n",
       "    </tr>\n",
       "    <tr>\n",
       "      <th>5757</th>\n",
       "      <td>3123.5</td>\n",
       "      <td>NaN</td>\n",
       "      <td>35.8030</td>\n",
       "      <td>7.072400</td>\n",
       "      <td>2.6053</td>\n",
       "      <td>142.6667</td>\n",
       "      <td>-50.6959</td>\n",
       "      <td>20.003</td>\n",
       "      <td>106.982</td>\n",
       "      <td>0.328</td>\n",
       "      <td>0.182</td>\n",
       "      <td>0.181653</td>\n",
       "      <td>0.028839</td>\n",
       "      <td>7.072400</td>\n",
       "      <td>1.000000</td>\n",
       "      <td>0.940418</td>\n",
       "      <td>0.037980</td>\n",
       "    </tr>\n",
       "    <tr>\n",
       "      <th>5758</th>\n",
       "      <td>3124.0</td>\n",
       "      <td>NaN</td>\n",
       "      <td>34.5347</td>\n",
       "      <td>6.657500</td>\n",
       "      <td>2.6299</td>\n",
       "      <td>127.3329</td>\n",
       "      <td>-53.6144</td>\n",
       "      <td>20.003</td>\n",
       "      <td>106.982</td>\n",
       "      <td>0.328</td>\n",
       "      <td>0.182</td>\n",
       "      <td>0.167071</td>\n",
       "      <td>0.012968</td>\n",
       "      <td>6.657500</td>\n",
       "      <td>1.000000</td>\n",
       "      <td>0.945201</td>\n",
       "      <td>0.039998</td>\n",
       "    </tr>\n",
       "    <tr>\n",
       "      <th>5759</th>\n",
       "      <td>3124.5</td>\n",
       "      <td>NaN</td>\n",
       "      <td>38.7223</td>\n",
       "      <td>6.427800</td>\n",
       "      <td>2.6444</td>\n",
       "      <td>112.3805</td>\n",
       "      <td>-56.6536</td>\n",
       "      <td>20.003</td>\n",
       "      <td>106.982</td>\n",
       "      <td>0.328</td>\n",
       "      <td>0.182</td>\n",
       "      <td>0.215216</td>\n",
       "      <td>0.003613</td>\n",
       "      <td>6.427800</td>\n",
       "      <td>1.000000</td>\n",
       "      <td>0.929409</td>\n",
       "      <td>0.043300</td>\n",
       "    </tr>\n",
       "  </tbody>\n",
       "</table>\n",
       "<p>137254 rows × 17 columns</p>\n",
       "</div>"
      ],
      "text/plain": [
       "        DEPT       DT       GR      NPHI    RHOB           RT       SP  \\\n",
       "1706   853.0  80.9297  26.5268  0.272060  1.7312  100000.0000   4.3388   \n",
       "1707   853.5  78.5779  35.2117  0.278102  1.9110  100000.0000   7.5256   \n",
       "1708   854.0  78.1491  44.4713  0.330340  2.0323  100000.0000  11.2575   \n",
       "1709   854.5  80.3657  51.4354  0.358503  2.0497  100000.0000  15.2224   \n",
       "1710   855.0  84.5206  52.9506  0.376337  1.9479  100000.0000  19.1622   \n",
       "...      ...      ...      ...       ...     ...          ...      ...   \n",
       "5755  3122.5      NaN  61.0962  9.413100  2.5257     172.0726 -44.5557   \n",
       "5756  3123.0      NaN  46.1199  7.859600  2.5690     157.2318 -47.7197   \n",
       "5757  3123.5      NaN  35.8030  7.072400  2.6053     142.6667 -50.6959   \n",
       "5758  3124.0      NaN  34.5347  6.657500  2.6299     127.3329 -53.6144   \n",
       "5759  3124.5      NaN  38.7223  6.427800  2.6444     112.3805 -56.6536   \n",
       "\n",
       "          GRMin      GRMax  PHISH     Rw    Vshale      PHID      PHIN  \\\n",
       "1706  33997.000  53048.000  0.029  0.029  0.000000  0.592774  0.272060   \n",
       "1707  33997.000  53048.000  0.029  0.029  0.000000  0.476774  0.278102   \n",
       "1708  33997.000  53048.000  0.029  0.029  0.000000  0.398516  0.330340   \n",
       "1709  33997.000  53048.000  0.029  0.029  0.000000  0.387290  0.358503   \n",
       "1710  33997.000  53048.000  0.029  0.029  0.000000  0.452968  0.376337   \n",
       "...         ...        ...    ...    ...       ...       ...       ...   \n",
       "5755     20.003    106.982  0.328  0.182  0.472450  0.080194  9.413100   \n",
       "5756     20.003    106.982  0.328  0.182  0.300267  0.052258  7.859600   \n",
       "5757     20.003    106.982  0.328  0.182  0.181653  0.028839  7.072400   \n",
       "5758     20.003    106.982  0.328  0.182  0.167071  0.012968  6.657500   \n",
       "5759     20.003    106.982  0.328  0.182  0.215216  0.003613  6.427800   \n",
       "\n",
       "          PHIT      PHIE        Sw  \n",
       "1706  0.461193  0.461193  0.001168  \n",
       "1707  0.390291  0.390291  0.001380  \n",
       "1708  0.366019  0.366019  0.001471  \n",
       "1709  0.373174  0.373174  0.001443  \n",
       "1710  0.416419  0.416419  0.001293  \n",
       "...        ...       ...       ...  \n",
       "5755  1.000000  0.845037  0.038486  \n",
       "5756  1.000000  0.901513  0.037739  \n",
       "5757  1.000000  0.940418  0.037980  \n",
       "5758  1.000000  0.945201  0.039998  \n",
       "5759  1.000000  0.929409  0.043300  \n",
       "\n",
       "[137254 rows x 17 columns]"
      ]
     },
     "execution_count": 8,
     "metadata": {},
     "output_type": "execute_result"
    }
   ],
   "source": [
    "dataset"
   ]
  },
  {
   "cell_type": "code",
   "execution_count": 7,
   "id": "ca53bc48-8ac2-4575-85e3-162e6240bfcd",
   "metadata": {},
   "outputs": [
    {
     "data": {
      "text/plain": [
       "0"
      ]
     },
     "execution_count": 7,
     "metadata": {},
     "output_type": "execute_result"
    }
   ],
   "source": [
    "dataset.duplicated().sum()"
   ]
  },
  {
   "cell_type": "code",
   "execution_count": 8,
   "id": "0e37d852-4689-429e-b148-5aa3861586a7",
   "metadata": {},
   "outputs": [],
   "source": [
    "x=dataset[['GR', 'NPHI', 'RHOB', 'RT']]\n",
    "y=dataset[[\"Vshale\",\"PHID\",\"PHIT\",\"PHIE\",\"Sw\"]]"
   ]
  },
  {
   "cell_type": "code",
   "execution_count": 38,
   "id": "522749f4-63d4-4660-8a4f-8cbdea36920a",
   "metadata": {},
   "outputs": [
    {
     "data": {
      "text/html": [
       "<div>\n",
       "<style scoped>\n",
       "    .dataframe tbody tr th:only-of-type {\n",
       "        vertical-align: middle;\n",
       "    }\n",
       "\n",
       "    .dataframe tbody tr th {\n",
       "        vertical-align: top;\n",
       "    }\n",
       "\n",
       "    .dataframe thead th {\n",
       "        text-align: right;\n",
       "    }\n",
       "</style>\n",
       "<table border=\"1\" class=\"dataframe\">\n",
       "  <thead>\n",
       "    <tr style=\"text-align: right;\">\n",
       "      <th></th>\n",
       "      <th>Vshale</th>\n",
       "      <th>PHID</th>\n",
       "      <th>PHIT</th>\n",
       "      <th>PHIE</th>\n",
       "      <th>Sw</th>\n",
       "    </tr>\n",
       "  </thead>\n",
       "  <tbody>\n",
       "    <tr>\n",
       "      <th>1706</th>\n",
       "      <td>0.000000</td>\n",
       "      <td>0.592774</td>\n",
       "      <td>0.461193</td>\n",
       "      <td>0.461193</td>\n",
       "      <td>0.001168</td>\n",
       "    </tr>\n",
       "    <tr>\n",
       "      <th>1707</th>\n",
       "      <td>0.000000</td>\n",
       "      <td>0.476774</td>\n",
       "      <td>0.390291</td>\n",
       "      <td>0.390291</td>\n",
       "      <td>0.001380</td>\n",
       "    </tr>\n",
       "    <tr>\n",
       "      <th>1708</th>\n",
       "      <td>0.000000</td>\n",
       "      <td>0.398516</td>\n",
       "      <td>0.366019</td>\n",
       "      <td>0.366019</td>\n",
       "      <td>0.001471</td>\n",
       "    </tr>\n",
       "    <tr>\n",
       "      <th>1709</th>\n",
       "      <td>0.000000</td>\n",
       "      <td>0.387290</td>\n",
       "      <td>0.373174</td>\n",
       "      <td>0.373174</td>\n",
       "      <td>0.001443</td>\n",
       "    </tr>\n",
       "    <tr>\n",
       "      <th>1710</th>\n",
       "      <td>0.000000</td>\n",
       "      <td>0.452968</td>\n",
       "      <td>0.416419</td>\n",
       "      <td>0.416419</td>\n",
       "      <td>0.001293</td>\n",
       "    </tr>\n",
       "    <tr>\n",
       "      <th>...</th>\n",
       "      <td>...</td>\n",
       "      <td>...</td>\n",
       "      <td>...</td>\n",
       "      <td>...</td>\n",
       "      <td>...</td>\n",
       "    </tr>\n",
       "    <tr>\n",
       "      <th>5755</th>\n",
       "      <td>0.472450</td>\n",
       "      <td>0.080194</td>\n",
       "      <td>1.000000</td>\n",
       "      <td>0.845037</td>\n",
       "      <td>0.038486</td>\n",
       "    </tr>\n",
       "    <tr>\n",
       "      <th>5756</th>\n",
       "      <td>0.300267</td>\n",
       "      <td>0.052258</td>\n",
       "      <td>1.000000</td>\n",
       "      <td>0.901513</td>\n",
       "      <td>0.037739</td>\n",
       "    </tr>\n",
       "    <tr>\n",
       "      <th>5757</th>\n",
       "      <td>0.181653</td>\n",
       "      <td>0.028839</td>\n",
       "      <td>1.000000</td>\n",
       "      <td>0.940418</td>\n",
       "      <td>0.037980</td>\n",
       "    </tr>\n",
       "    <tr>\n",
       "      <th>5758</th>\n",
       "      <td>0.167071</td>\n",
       "      <td>0.012968</td>\n",
       "      <td>1.000000</td>\n",
       "      <td>0.945201</td>\n",
       "      <td>0.039998</td>\n",
       "    </tr>\n",
       "    <tr>\n",
       "      <th>5759</th>\n",
       "      <td>0.215216</td>\n",
       "      <td>0.003613</td>\n",
       "      <td>1.000000</td>\n",
       "      <td>0.929409</td>\n",
       "      <td>0.043300</td>\n",
       "    </tr>\n",
       "  </tbody>\n",
       "</table>\n",
       "<p>137254 rows × 5 columns</p>\n",
       "</div>"
      ],
      "text/plain": [
       "        Vshale      PHID      PHIT      PHIE        Sw\n",
       "1706  0.000000  0.592774  0.461193  0.461193  0.001168\n",
       "1707  0.000000  0.476774  0.390291  0.390291  0.001380\n",
       "1708  0.000000  0.398516  0.366019  0.366019  0.001471\n",
       "1709  0.000000  0.387290  0.373174  0.373174  0.001443\n",
       "1710  0.000000  0.452968  0.416419  0.416419  0.001293\n",
       "...        ...       ...       ...       ...       ...\n",
       "5755  0.472450  0.080194  1.000000  0.845037  0.038486\n",
       "5756  0.300267  0.052258  1.000000  0.901513  0.037739\n",
       "5757  0.181653  0.028839  1.000000  0.940418  0.037980\n",
       "5758  0.167071  0.012968  1.000000  0.945201  0.039998\n",
       "5759  0.215216  0.003613  1.000000  0.929409  0.043300\n",
       "\n",
       "[137254 rows x 5 columns]"
      ]
     },
     "execution_count": 38,
     "metadata": {},
     "output_type": "execute_result"
    }
   ],
   "source": []
  },
  {
   "cell_type": "code",
   "execution_count": 11,
   "id": "3bdd3c36-990d-482b-8aaf-d684f0fa775b",
   "metadata": {},
   "outputs": [
    {
     "data": {
      "image/png": "[encoded data removed]",
      "text/plain": [
       "<Figure size 864x864 with 2 Axes>"
      ]
     },
     "metadata": {
      "needs_background": "light"
     },
     "output_type": "display_data"
    }
   ],
   "source": [
    "plt.figure(figsize=(12, 12))\n",
    "sns.heatmap(dataset.corr(), cmap='Blues', annot=True, fmt='.1f');"
   ]
  },
  {
   "cell_type": "code",
   "execution_count": 51,
   "id": "52aa02d7-ea4c-4587-a0b2-e15b366acbf4",
   "metadata": {},
   "outputs": [
    {
     "data": {
      "image/png": "[encoded data removed]",
      "text/plain": [
       "<Figure size 1440x720 with 1 Axes>"
      ]
     },
     "metadata": {
      "needs_background": "light"
     },
     "output_type": "display_data"
    }
   ],
   "source": [
    "ukuran = (20, 10)\n",
    "fig, ax = plt.subplots(figsize=ukuran)\n",
    "g = sns.boxplot(data=y,linewidth=2.5,ax=ax)\n",
    "g.set_yscale(\"log\")"
   ]
  },
  {
   "cell_type": "code",
   "execution_count": 50,
   "id": "a3138e80-95c5-42bc-8fa5-9b0cf00de030",
   "metadata": {},
   "outputs": [],
   "source": [
    "y[\"Vshale\"]=MinMaxScaler().fit_transform(y[\"Vshale\"].values.reshape(len(y),1))\n",
    "y[\"PHID\"]=MinMaxScaler().fit_transform(y[\"PHID\"].values.reshape(len(y),1))\n",
    "y[\"PHIT\"]=MinMaxScaler().fit_transform(y[\"PHIT\"].values.reshape(len(y),1))\n",
    "y[\"PHIE\"]=MinMaxScaler().fit_transform(y[\"PHIE\"].values.reshape(len(y),1))\n",
    "y[\"Sw\"]=MinMaxScaler().fit_transform(y[\"Sw\"].values.reshape(len(y),1))"
   ]
  },
  {
   "cell_type": "code",
   "execution_count": 49,
   "id": "7c6f674a-2334-4462-a734-d2c7944a0227",
   "metadata": {},
   "outputs": [
    {
     "data": {
      "image/png": "[encoded data removed]",
      "text/plain": [
       "<Figure size 1440x720 with 1 Axes>"
      ]
     },
     "metadata": {
      "needs_background": "light"
     },
     "output_type": "display_data"
    }
   ],
   "source": [
    "ukuran = (20, 10)\n",
    "fig, ax = plt.subplots(figsize=ukuran)\n",
    "g = sns.boxplot(data=x,linewidth=2.5,ax=ax)\n",
    "g.set_yscale(\"log\")"
   ]
  },
  {
   "cell_type": "code",
   "execution_count": 48,
   "id": "03720c37-b113-44bb-a440-485edb20786b",
   "metadata": {},
   "outputs": [],
   "source": [
    "x[\"RHOB\"]=MinMaxScaler().fit_transform(x[\"RHOB\"].values.reshape(len(x),1))\n",
    "x[\"GR\"]=MinMaxScaler().fit_transform(x[\"GR\"].values.reshape(len(x),1))\n",
    "x[\"NPHI\"]=MinMaxScaler().fit_transform(x[\"NPHI\"].values.reshape(len(x),1))\n",
    "x[\"RT\"]=MinMaxScaler().fit_transform(x[\"RT\"].values.reshape(len(x),1))"
   ]
  },
  {
   "cell_type": "markdown",
   "id": "02ad8761-8b47-4a4d-bd76-162a2dfa8d82",
   "metadata": {},
   "source": [
    "## SPLIT TRAIN TEST"
   ]
  },
  {
   "cell_type": "code",
   "execution_count": 54,
   "id": "5983a21f-0c58-45c6-b2d5-6d85bcbfefec",
   "metadata": {},
   "outputs": [],
   "source": [
    "xtrain, xtest, ytrain, ytest = train_test_split(x,y,test_size=0.2, random_state=42) #Splitting the data into Train and Test"
   ]
  },
  {
   "cell_type": "markdown",
   "id": "250a779f-8001-44eb-8b21-0ba98bb5744b",
   "metadata": {
    "tags": []
   },
   "source": [
    "## Linear Regression"
   ]
  },
  {
   "cell_type": "code",
   "execution_count": 55,
   "id": "fa3d1539-9ddc-4267-ba38-456e772622c8",
   "metadata": {},
   "outputs": [
    {
     "name": "stdout",
     "output_type": "stream",
     "text": [
      "MAE: 0.11\n",
      "RMSE: 0.15\n",
      "R2 score: 0.74\n",
      "Train: 0.7433 Test: 0.7441\n"
     ]
    }
   ],
   "source": [
    "LR=LinearRegression()\n",
    "LR.fit(xtrain, ytrain)\n",
    "pred=LR.predict(xtest)\n",
    "eval_regression(LR,pred,xtrain,ytrain,xtest,ytest)\n",
    "print(\"Train: %.4f\" % LR.score(xtrain,ytrain),\"Test: %.4f\" % LR.score(xtest,ytest))\n"
   ]
  },
  {
   "cell_type": "markdown",
   "id": "5be1bd40-b5a3-4054-9458-1db0fc17b802",
   "metadata": {},
   "source": [
    "## Ridge "
   ]
  },
  {
   "cell_type": "code",
   "execution_count": 56,
   "id": "067bf742-445a-4761-a29c-c22bac8a0d7d",
   "metadata": {},
   "outputs": [
    {
     "name": "stdout",
     "output_type": "stream",
     "text": [
      "MAE: 0.11\n",
      "RMSE: 0.15\n",
      "R2 score: 0.74\n",
      "Train: 0.7433 Test: 0.7441\n"
     ]
    }
   ],
   "source": [
    "RM=Ridge()\n",
    "RM.fit(xtrain,ytrain)\n",
    "pred2=RM.predict(xtest)\n",
    "eval_regression(RM,pred2,xtrain,ytrain,xtest,ytest)\n",
    "print(\"Train: %.4f\" % RM.score(xtrain,ytrain),\"Test: %.4f\" % RM.score(xtest,ytest))"
   ]
  },
  {
   "cell_type": "markdown",
   "id": "9cb4849f-49b1-4799-938b-cff437efd71f",
   "metadata": {},
   "source": [
    "## Ridge Hyper "
   ]
  },
  {
   "cell_type": "code",
   "execution_count": 57,
   "id": "b5bd58fb-0631-4139-a429-8fa70cede27f",
   "metadata": {},
   "outputs": [
    {
     "name": "stdout",
     "output_type": "stream",
     "text": [
      "MAE: 0.11\n",
      "RMSE: 0.15\n",
      "R2 score: 0.74\n"
     ]
    },
    {
     "data": {
      "text/plain": [
       "(0.7432737435933957, 0.7441122891165184)"
      ]
     },
     "execution_count": 57,
     "metadata": {},
     "output_type": "execute_result"
    }
   ],
   "source": [
    "from sklearn.model_selection import RandomizedSearchCV, GridSearchCV\n",
    "from scipy.stats import uniform\n",
    "\n",
    "alpha = [0.01, 0.1, 1, 2, 5, 10, 100, 200, 230, 250, 265, 270, 275, 290, 300, 500] # alpha\n",
    "solver = ['lsqr', 'auto', 'sag', 'saga', 'cholesky']\n",
    "fit_intercept = [True, False]\n",
    "hyperparameters = dict(alpha=alpha, solver=solver, fit_intercept=fit_intercept)\n",
    "\n",
    "from sklearn.linear_model import Ridge\n",
    "ridge_model = Ridge()\n",
    "clf = RandomizedSearchCV(ridge_model, hyperparameters, cv=5, random_state=42, scoring='r2')\n",
    "\n",
    "#Fitting Model\n",
    "best_model = clf.fit(xtrain, ytrain)\n",
    "pred = best_model.predict(xtest)\n",
    "eval_regression(best_model, pred, xtrain, ytrain, xtest, ytest)\n",
    "best_model.score(xtrain,ytrain),best_model.score(xtest,ytest)"
   ]
  },
  {
   "cell_type": "markdown",
   "id": "f8c3dcb0-e770-412d-bc5c-fdc95c0b03d7",
   "metadata": {},
   "source": [
    "## Lasso"
   ]
  },
  {
   "cell_type": "code",
   "execution_count": 58,
   "id": "8bddac8e-ac25-410d-995f-81f7f6ccafdf",
   "metadata": {},
   "outputs": [
    {
     "name": "stdout",
     "output_type": "stream",
     "text": [
      "MAE: 0.26\n",
      "RMSE: 0.32\n",
      "R2 score: -0.00\n"
     ]
    },
    {
     "data": {
      "text/plain": [
       "(-1.0880185641326535e-15, -8.134100754437767e-05)"
      ]
     },
     "execution_count": 58,
     "metadata": {},
     "output_type": "execute_result"
    }
   ],
   "source": [
    "lasso_model = Lasso()\n",
    "lasso_model.fit(xtrain, ytrain)\n",
    "pred3=lasso_model.predict(xtest)\n",
    "eval_regression(lasso_model,pred3,xtrain,ytrain,xtest,ytest)\n",
    "lasso_model.score(xtrain,ytrain),lasso_model.score(xtest,ytest)"
   ]
  },
  {
   "cell_type": "markdown",
   "id": "ec8e5aee-7c25-43b8-8bc0-1bb1b7ab66f3",
   "metadata": {},
   "source": [
    "## Lasso Hyper"
   ]
  },
  {
   "cell_type": "code",
   "execution_count": 59,
   "id": "8fea2ff9-3f2e-456b-9819-3ad0582dce99",
   "metadata": {},
   "outputs": [
    {
     "name": "stdout",
     "output_type": "stream",
     "text": [
      "MAE: 0.21\n",
      "RMSE: 0.25\n",
      "R2 score: 0.36\n"
     ]
    },
    {
     "data": {
      "text/plain": [
       "(0.3613904616081151, 0.3620276311931506)"
      ]
     },
     "execution_count": 59,
     "metadata": {},
     "output_type": "execute_result"
    }
   ],
   "source": [
    "from sklearn.model_selection import RandomizedSearchCV\n",
    "from scipy.stats import uniform\n",
    "\n",
    "alpha = [0.02, 0.024, 0.025, 0.026, 0.03] # alpha or lambda\n",
    "selection = ['cyclic', 'random']\n",
    "hyperparameters = dict(alpha=alpha, selection=selection)\n",
    "\n",
    "from sklearn.linear_model import Lasso\n",
    "lasso_model = Lasso()\n",
    "clf = RandomizedSearchCV(lasso_model, hyperparameters, cv=5, random_state=42, scoring='r2')\n",
    "\n",
    "#Fitting Model\n",
    "best_model2 = clf.fit(xtrain, ytrain)\n",
    "\n",
    "pred = best_model2.predict(xtest)\n",
    "eval_regression(best_model2, pred, xtrain, ytrain, xtest, ytest)\n",
    "best_model2.score(xtrain,ytrain),best_model2.score(xtest,ytest)"
   ]
  },
  {
   "cell_type": "markdown",
   "id": "d156061f-96f8-4b60-a497-db6b5209caa0",
   "metadata": {
    "tags": []
   },
   "source": [
    "## Random Forest"
   ]
  },
  {
   "cell_type": "code",
   "execution_count": 60,
   "id": "61409a1b-bfe9-4041-8861-98c0d40b23f8",
   "metadata": {
    "tags": []
   },
   "outputs": [
    {
     "name": "stdout",
     "output_type": "stream",
     "text": [
      "MAE: 0.03\n",
      "RMSE: 0.06\n",
      "R2 score: 0.95\n"
     ]
    },
    {
     "data": {
      "text/plain": [
       "(0.9932531983429957, 0.9533516811533407)"
      ]
     },
     "execution_count": 60,
     "metadata": {},
     "output_type": "execute_result"
    }
   ],
   "source": [
    "rf = RandomForestRegressor()\n",
    "rf.fit(xtrain, ytrain)\n",
    "pred4 = rf.predict(xtest)\n",
    "eval_regression(rf, pred4, xtrain, ytrain, xtest, ytest)\n",
    "rf.score(xtrain,ytrain),rf.score(xtest,ytest)"
   ]
  },
  {
   "cell_type": "markdown",
   "id": "9210b349-e974-49ea-9ae5-6beccbb0ea6a",
   "metadata": {},
   "source": [
    "## ELastic Net"
   ]
  },
  {
   "cell_type": "code",
   "execution_count": 61,
   "id": "1371a0b4-c878-4e4d-8fcf-513ab5149cea",
   "metadata": {},
   "outputs": [
    {
     "name": "stdout",
     "output_type": "stream",
     "text": [
      "MAE: 0.26\n",
      "RMSE: 0.32\n",
      "R2 score: -0.00\n"
     ]
    },
    {
     "data": {
      "text/plain": [
       "(-1.0880185641326535e-15, -8.134100754437767e-05)"
      ]
     },
     "execution_count": 61,
     "metadata": {},
     "output_type": "execute_result"
    }
   ],
   "source": [
    "elasticnet_model = ElasticNet()\n",
    "elasticnet_model.fit(xtrain, ytrain)\n",
    "pred = elasticnet_model.predict(xtest)\n",
    "eval_regression(elasticnet_model, pred, xtrain, ytrain, xtest, ytest)\n",
    "elasticnet_model.score(xtrain,ytrain),elasticnet_model.score(xtest,ytest)"
   ]
  },
  {
   "cell_type": "markdown",
   "id": "75543031-9e28-4ffb-9da0-f2fd4976df36",
   "metadata": {},
   "source": [
    "## Decision Tree"
   ]
  },
  {
   "cell_type": "code",
   "execution_count": 62,
   "id": "8bfaf312-e537-43dc-9383-d92b2931c969",
   "metadata": {},
   "outputs": [
    {
     "name": "stdout",
     "output_type": "stream",
     "text": [
      "MAE: 0.04\n",
      "RMSE: 0.08\n",
      "R2 score: 0.91\n"
     ]
    },
    {
     "data": {
      "text/plain": [
       "(1.0, 0.911422195953034)"
      ]
     },
     "execution_count": 62,
     "metadata": {},
     "output_type": "execute_result"
    }
   ],
   "source": [
    "dt = DecisionTreeRegressor()\n",
    "dt.fit(xtrain, ytrain)\n",
    "pred = dt.predict(xtest)\n",
    "eval_regression(dt, pred, xtrain, ytrain, xtest, ytest)\n",
    "dt.score(xtrain,ytrain),dt.score(xtest,ytest)"
   ]
  }
 ],
 "metadata": {
  "kernelspec": {
   "display_name": "Python 3 (ipykernel)",
   "language": "python",
   "name": "python3"
  },
  "language_info": {
   "codemirror_mode": {
    "name": "ipython",
    "version": 3
   },
   "file_extension": ".py",
   "mimetype": "text/x-python",
   "name": "python",
   "nbconvert_exporter": "python",
   "pygments_lexer": "ipython3",
   "version": "3.9.7"
  }
 },
 "nbformat": 4,
 "nbformat_minor": 5
}
