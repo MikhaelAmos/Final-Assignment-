{
 "cells": [
  {
   "cell_type": "code",
   "execution_count": 1,
   "id": "00ee0e19",
   "metadata": {},
   "outputs": [],
   "source": [
    "%config Completer.use_jedi = False"
   ]
  },
  {
   "cell_type": "markdown",
   "id": "8d513d11",
   "metadata": {},
   "source": [
    "# SImple MLA modelling"
   ]
  },
  {
   "cell_type": "code",
   "execution_count": 2,
   "id": "06c605fd",
   "metadata": {},
   "outputs": [],
   "source": [
    "import numpy as np\n",
    "import pandas as pd\n",
    "import matplotlib.pyplot as plt\n",
    "import glob\n",
    "\n",
    "from sklearn.model_selection import train_test_split\n",
    "from sklearn.preprocessing import StandardScaler\n",
    "\n",
    "from sklearn.linear_model import LinearRegression\n",
    "from sklearn.ensemble import RandomForestRegressor\n",
    "from xgboost import XGBRegressor"
   ]
  },
  {
   "cell_type": "code",
   "execution_count": 3,
   "id": "fb61d794",
   "metadata": {},
   "outputs": [],
   "source": [
    "wells = glob.glob('calculated/*')\n",
    "\n",
    "np.random.seed(8812)\n",
    "blind_test = []\n",
    "for i in range(74):\n",
    "    n = np.random.randint(0, len(wells))\n",
    "    blind_test.append(wells[n])\n",
    "    wells.pop(n)\n",
    "    \n",
    "model_build = wells"
   ]
  },
  {
   "cell_type": "code",
   "execution_count": 4,
   "id": "5547a2b1",
   "metadata": {},
   "outputs": [
    {
     "data": {
      "text/plain": [
       "(74, 200)"
      ]
     },
     "execution_count": 4,
     "metadata": {},
     "output_type": "execute_result"
    }
   ],
   "source": [
    "len(blind_test), len(model_build)"
   ]
  },
  {
   "cell_type": "code",
   "execution_count": 14,
   "id": "34bac927",
   "metadata": {
    "tags": []
   },
   "outputs": [],
   "source": [
    "X_ = pd.DataFrame([])\n",
    "Y_ = pd.DataFrame([])\n",
    "\n",
    "\n",
    "for well in model_build:\n",
    "    well_data = pd.read_csv(well).dropna(subset=['GR', 'NPHI', 'RHOB', 'RT',\n",
    "                                                \"Vshale\",\"PHID\",\"PHIT\",\"PHIE\",\"Sw\"])\n",
    "    x_ = well_data[['GR', 'NPHI', 'RHOB', 'RT']]\n",
    "    y_ = well_data[[\"Vshale\",\"PHID\",\"PHIT\",\"PHIE\",\"Sw\"]]\n",
    "    \n",
    "    X_ = pd.concat([X_, x_])\n",
    "    Y_ = pd.concat([Y_, y_])"
   ]
  },
  {
   "cell_type": "code",
   "execution_count": 69,
   "id": "a0aeaa4a",
   "metadata": {},
   "outputs": [
    {
     "data": {
      "text/plain": [
       "(0.4689787046284021, 0.46724093795553906)"
      ]
     },
     "execution_count": 69,
     "metadata": {},
     "output_type": "execute_result"
    }
   ],
   "source": [
    "X_train, X_test, y_train, y_test = train_test_split( X_, Y_, test_size=0.33, random_state=42)\n",
    "mla_lr = LinearRegression()\n",
    "mla_lr.fit(X_train, y_train)\n",
    "mla_lr.score(X_train, y_train), mla_lr.score(X_test, y_test), "
   ]
  },
  {
   "cell_type": "code",
   "execution_count": null,
   "id": "c7130a8a",
   "metadata": {},
   "outputs": [],
   "source": [
    "mla_rf = RandomForestRegressor()\n",
    "mla_rf.fit(X_train, y_train)\n",
    "mla_rf.score(X_train, y_train), mla_rf.score(X_test, y_test), "
   ]
  },
  {
   "cell_type": "markdown",
   "id": "1fdf3e12",
   "metadata": {},
   "source": [
    "# Blind test scoring"
   ]
  },
  {
   "cell_type": "code",
   "execution_count": 64,
   "id": "c1d672ee",
   "metadata": {},
   "outputs": [],
   "source": [
    "X__ = pd.DataFrame([])\n",
    "Y__ = pd.DataFrame([])\n",
    "\n",
    "for well in blind_test:\n",
    "    well_data = pd.read_csv(well).dropna(subset=['GR', 'NPHI', 'RHOB', 'RT',\n",
    "                                                'vshale', 'phid', 'phit', 'phie', 'sw'])\n",
    "    x__ = well_data[['GR', 'NPHI', 'RHOB', 'RT']]\n",
    "    y__ = well_data[['vshale', 'phid', 'phit', 'phie', 'sw']]\n",
    "    \n",
    "    X__ = pd.concat([X__, x__])\n",
    "    Y__ = pd.concat([Y__, y__])"
   ]
  },
  {
   "cell_type": "code",
   "execution_count": null,
   "id": "5a056fdc",
   "metadata": {},
   "outputs": [],
   "source": [
    "mla_lr.score(X__, Y__)"
   ]
  },
  {
   "cell_type": "code",
   "execution_count": null,
   "id": "0dc2de28",
   "metadata": {},
   "outputs": [],
   "source": [
    "mla_rf.score(X__, Y__)"
   ]
  },
  {
   "cell_type": "code",
   "execution_count": null,
   "id": "2dcd9abd",
   "metadata": {},
   "outputs": [],
   "source": []
  }
 ],
 "metadata": {
  "kernelspec": {
   "display_name": "Python 3 (ipykernel)",
   "language": "python",
   "name": "python3"
  },
  "language_info": {
   "codemirror_mode": {
    "name": "ipython",
    "version": 3
   },
   "file_extension": ".py",
   "mimetype": "text/x-python",
   "name": "python",
   "nbconvert_exporter": "python",
   "pygments_lexer": "ipython3",
   "version": "3.9.7"
  }
 },
 "nbformat": 4,
 "nbformat_minor": 5
}
